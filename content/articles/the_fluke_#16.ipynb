{
 "cells": [
  {
   "cell_type": "markdown",
   "metadata": {},
   "source": [
    "Hello there! Here's some music for your enjoyment :)\n",
    "\n",
    "In The Fluke #16 you'll get two earworms of mine: \"Great Things\" by Nehruviandoom, and a remixed version of \"Brother Where Are You\" of Oscar Brown Jr.\n",
    "There's also a jazz song by sax player Laurent Bardainne, which I was fortunate to see live a few days ago at the Défense Jazz Festival in Paris.\n",
    "\n",
    "We wind down with a dreamy piece from Chick Corea's \"Return to Forever\" album, and end with an extract of Mussorgsky's \"Pictures at an Exhibition\". I've been listening to this gem since I was a child, and really like playing it too.\n",
    "\n",
    "You can find the playlist [here on Spotify](https://open.spotify.com/playlist/0FKyTyDlaVPoDpWm4D05e0?si=aa8f9e47dad14421), [here on Deezer](https://www.deezer.com/fr/playlist/9224103382), or [there on YouTube](https://www.youtube.com/playlist?list=PL8g99k_gagFQzcV8iQqyyTdDWGDmYii5D)."
   ]
  },
  {
   "cell_type": "markdown",
   "metadata": {},
   "source": [
    "Last thing, I gathered the playlists #11 to #15 in a bigger one of 25 songs, The Fluke - Part 3.\n",
    "\n",
    "It's [here on Spotify](https://open.spotify.com/playlist/3XyFtqSy4d8nVuWlx0Tg0t?si=76d1335510644d57), [here on Deezer](https://www.deezer.com/fr/playlist/9224108862), and [there on YouTube](https://www.youtube.com/playlist?list=PL8g99k_gagFSftdBf1YaFa8jZu0-XOjpB)."
   ]
  },
  {
   "cell_type": "markdown",
   "metadata": {},
   "source": [
    "<img src=\"/images/return_to_forever.jpg\" title='Cover of the \"Return to Forever\" album by Chick Corea (1972).' style=\"width:600px\"/>"
   ]
  },
  {
   "cell_type": "markdown",
   "metadata": {},
   "source": [
    "Tracklist :\n",
    "- Great Things - Nehruviandoom\n",
    "- Porsche 944 - Laurent Bardainne & Tigre d'Eau Douce\n",
    "- Brother Where Are You? - Oscar Brown, Jr., remixed by Matthew Herbert\n",
    "- Crystal Silence - Chick Corea\n",
    "- Pictures at an Exhibition: The Old Castle - Modest Mussorgsky, interpreted by Boris Giltburg"
   ]
  }
 ],
 "metadata": {
  "kernelspec": {
   "display_name": "Python 3",
   "language": "python",
   "name": "python3"
  },
  "language_info": {
   "codemirror_mode": {
    "name": "ipython",
    "version": 3
   },
   "file_extension": ".py",
   "mimetype": "text/x-python",
   "name": "python",
   "nbconvert_exporter": "python",
   "pygments_lexer": "ipython3",
   "version": "3.5.6"
  }
 },
 "nbformat": 4,
 "nbformat_minor": 2
}
