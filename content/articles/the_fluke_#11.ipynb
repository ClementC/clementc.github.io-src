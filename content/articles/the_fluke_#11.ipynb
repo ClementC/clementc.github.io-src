{
 "cells": [
  {
   "cell_type": "markdown",
   "metadata": {},
   "source": [
    "This week it seems that things are even more mixed up than usual! So in addition to my usual basis of jazz/funk/electro, you'll get some afrobeat, hip hop, and modern rock.\n",
    "\n",
    "I use the occasion to have listeners discover a project that I really liked a few years ago: Balinger, with Thomas Caillou at the guitar. Thomas was the one who taught some friends and me the rudiments of jazz, and I remember the period fondly.\n",
    "\n",
    "Here are the links [on Spotify](https://open.spotify.com/playlist/0KJbguPAL0DDSYfpMsf6Y7?si=48abf7f476dc4e5d) and [on YouTube](https://www.youtube.com/playlist?list=PL8g99k_gagFQ7hWQ-gb_Sj25eloyU_-L9).\n",
    "\n",
    "And as a bonus, you can find the playlists #6-#10 in a big playlist of 25 songs on [Spotify](https://open.spotify.com/playlist/2tx5mKO40tQiho63w9hZkn?si=85b9d1f9e644497d) and [YouTube](https://www.youtube.com/playlist?list=PL8g99k_gagFRfrjR05Z8hmS7O8DJEvTfc).\n",
    "\n",
    "Have a great week!"
   ]
  },
  {
   "cell_type": "markdown",
   "metadata": {},
   "source": [
    "<img src=\"/images/vaudou_game.jpeg\" title='Peter Solo, the singer of band Vaudou Game. Incredible energy on stage! (credits Vaudou Game)' style=\"width:600px\"/>"
   ]
  },
  {
   "cell_type": "markdown",
   "metadata": {},
   "source": [
    "Tracklist :\n",
    "- La vie c'est bon - Vaudou Game\n",
    "- Inside Voice - Joey Dosik\n",
    "- Wersailles (Planeur) - Chassol\n",
    "- What's Golden - Jurassic 5\n",
    "- Reborn Again - Balinger"
   ]
  }
 ],
 "metadata": {
  "kernelspec": {
   "display_name": "Python 3",
   "language": "python",
   "name": "python3"
  },
  "language_info": {
   "codemirror_mode": {
    "name": "ipython",
    "version": 3
   },
   "file_extension": ".py",
   "mimetype": "text/x-python",
   "name": "python",
   "nbconvert_exporter": "python",
   "pygments_lexer": "ipython3",
   "version": "3.5.6"
  }
 },
 "nbformat": 4,
 "nbformat_minor": 2
}
