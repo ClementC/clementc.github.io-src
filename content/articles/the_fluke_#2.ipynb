{
 "cells": [
  {
   "cell_type": "markdown",
   "metadata": {},
   "source": [
    "Here's the second edition of my weekly playlist of five songs! You can find it [here on Spotify](https://open.spotify.com/playlist/3AL6Sci4VLdwToO3QnNCfg?si=-MQ9WkLUTV-P1dKh-p6pgQ), and [here on YouTube](https://www.youtube.com/playlist?list=PL8g99k_gagFRky3Bjw1FFLZ4SU-4w9UCz).\n",
    "\n",
    "I'm taking a tropical detour this time, before coming back to homely classics.\n",
    "\n",
    "Hope you'll like it!"
   ]
  },
  {
   "cell_type": "markdown",
   "metadata": {},
   "source": [
    "Tracklist:\n",
    "- Wade In The Water - Ramsey Lewis\n",
    "- Batucada - Sergio Mendes\n",
    "- Ce N'est Que De L'eau - Pierre Barouh\n",
    "- Woody - Fazer\n",
    "- Nobody Knows the Trouble I've Seen - Louis Armstrong"
   ]
  },
  {
   "cell_type": "markdown",
   "metadata": {},
   "source": [
    "<img src=\"/images/ramsey_lewis.jpeg\" title=\"Cover of the 1978 &quot;Ramsey&quot; album by Ramsey Lewis. The definition of cool.\" style=\"width:600px\"/>"
   ]
  }
 ],
 "metadata": {
  "kernelspec": {
   "display_name": "Python 3",
   "language": "python",
   "name": "python3"
  },
  "language_info": {
   "codemirror_mode": {
    "name": "ipython",
    "version": 3
   },
   "file_extension": ".py",
   "mimetype": "text/x-python",
   "name": "python",
   "nbconvert_exporter": "python",
   "pygments_lexer": "ipython3",
   "version": "3.5.6"
  }
 },
 "nbformat": 4,
 "nbformat_minor": 5
}
