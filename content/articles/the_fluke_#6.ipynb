{
 "cells": [
  {
   "cell_type": "markdown",
   "metadata": {},
   "source": [
    "This week I'm super happy to feature my friend [Ismaïl](https://ismailsentissi.com/) for #TheFluke n°6! He [released his first album (in French)](https://www.cdzmusic.com/release/ismail-sentissi/) on Friday, as composer and trio lead at the piano.\n",
    "\n",
    "I've known and loved his music for years, and I'm super excited for the people who will listen to it for the first time! I'm not very good at describing music eloquently, but I can say that his is beautiful and makes you travel far. It's reminiscent of Avishai Cohen, Shai Maestro, and Esbjörn Svensson.\n",
    "\n",
    "I can't wait to see the trio live!"
   ]
  },
  {
   "cell_type": "markdown",
   "metadata": {},
   "source": [
    "<img src=\"/images/genoma.jpeg\" title=\"Cover of the Genoma album (2021)\" style=\"width:600px\"/>"
   ]
  },
  {
   "cell_type": "markdown",
   "metadata": {},
   "source": [
    "In this week's playlist, you'll find a somewhat representative sample of my musical tastes: some funk, some electro music, some classical music (a \"transcription exercise squared\" [as harpsicordist Jean Rondeau puts it himself (in French)](https://www.franceculture.fr/emissions/ce-qui-nous-arrive-en-musique-14-15/jean-rondeau-sattaque-au-patron-bach)), some instrumental jazz, and melodical hip-hop.\n",
    "\n",
    "The playlist is [here on Spotify](https://open.spotify.com/playlist/6oScXtsMaAisFBHB82bgBn?si=c514736a62984c40) and [here on YouTube](https://www.youtube.com/playlist?list=PL8g99k_gagFSt8pSUQ-DGG2_J8URlbK2s)."
   ]
  },
  {
   "cell_type": "markdown",
   "metadata": {},
   "source": [
    "Tracklist :\n",
    "- Monkey See and Monkey Do - Michael Franks\n",
    "- Good News - Mac Miller\n",
    "- Dayvan Cowboy - Boards of Canada\n",
    "- Genoma - Ismail Sentissi\n",
    "- Chaconne - Jean Rondeau"
   ]
  },
  {
   "cell_type": "markdown",
   "metadata": {},
   "source": [
    "Oh, and I also aggregated editions #1-#5 (so 25 songs) in another playlist if you like longer ones.\n",
    "\n",
    "You can find it [here on Spotify](https://open.spotify.com/playlist/6phe25dOSrPfMnKOpBoDqm?si=d5f71b3f328349a2), and [here on YouTube](https://www.youtube.com/playlist?list=PL8g99k_gagFRpJD-qPdW9kVcyyQn5Bmqt)."
   ]
  }
 ],
 "metadata": {
  "kernelspec": {
   "display_name": "Python 3",
   "language": "python",
   "name": "python3"
  },
  "language_info": {
   "codemirror_mode": {
    "name": "ipython",
    "version": 3
   },
   "file_extension": ".py",
   "mimetype": "text/x-python",
   "name": "python",
   "nbconvert_exporter": "python",
   "pygments_lexer": "ipython3",
   "version": "3.5.6"
  }
 },
 "nbformat": 4,
 "nbformat_minor": 2
}
