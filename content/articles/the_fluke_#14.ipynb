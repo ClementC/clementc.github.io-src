{
 "cells": [
  {
   "cell_type": "markdown",
   "metadata": {},
   "source": [
    "Hello there! It's the middle of June, and in Paris the weather is _hot_.\n",
    "\n",
    "For The Fluke #14, I included a song by Bumcello, a very peculiar french duo, formed by percutionnist Cyril Atef and cellist Vincent Ségal. They used to play with -M- and their music is very diverse. I went to see them for their \"15 years / 15 hours\" anniversary concert at the Maroquinerie in Paris a few years ago, good times!\n",
    "\n",
    "You'll also get a song by Esperanza Spalding, a dazzling jazz bassist and singer :)\n",
    "\n",
    "Here are the links [on Spotify](https://open.spotify.com/playlist/4V81bpbeFeIO0jA0AbXV7y?si=a98e51e8eebb4c8c), [Deezer](https://www.deezer.com/fr/playlist/9175485102), and [on YouTube](https://www.youtube.com/playlist?list=PL8g99k_gagFQmutFDUp_y_6Nxw6xaQCMY).\n",
    "\n",
    "Hope you like it!"
   ]
  },
  {
   "cell_type": "markdown",
   "metadata": {},
   "source": [
    "<img src=\"/images/chamber_music_society.jpg\" title='Cover of Esperanza Spalding&#39;s \"Chamber Music Society\" album (2010).' style=\"width:600px\"/>"
   ]
  },
  {
   "cell_type": "markdown",
   "metadata": {},
   "source": [
    "Tracklist :\n",
    "- Don't You Know - Jan Hammer Group\n",
    "- You Make Me Happy - Chris Joss\n",
    "- Sararevé - Bumcello\n",
    "- New York, I Love You but You're Bringing Me Down - LCD Soundsystem\n",
    "- Little Fly - Esperanza Spalding"
   ]
  }
 ],
 "metadata": {
  "kernelspec": {
   "display_name": "Python 3",
   "language": "python",
   "name": "python3"
  },
  "language_info": {
   "codemirror_mode": {
    "name": "ipython",
    "version": 3
   },
   "file_extension": ".py",
   "mimetype": "text/x-python",
   "name": "python",
   "nbconvert_exporter": "python",
   "pygments_lexer": "ipython3",
   "version": "3.5.6"
  }
 },
 "nbformat": 4,
 "nbformat_minor": 2
}
