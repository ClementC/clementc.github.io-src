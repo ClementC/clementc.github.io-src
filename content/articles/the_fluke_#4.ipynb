{
 "cells": [
  {
   "cell_type": "markdown",
   "metadata": {},
   "source": [
    "For the 4th edition of #TheFluke, I'm going for diversity!\n",
    "\n",
    "You'll get a British composer of TV themes heavily sampled by Danger Mouse and Fatboy Slim, a Dutch group singing 80s/psych-inspired tunes in Turkish, another Dutch electro producer who created an alterego as a [\"young woman… inspired by the cultural joys and hardships of growing up ‘between two worlds’ with a Japanese father and a Turkish mother\"](https://www.last.fm/music/Fatima+Yamaha/+wiki), an all-star bluegrass band teaming up with Yo-Yo Ma, and a german pianist who [always appears with a traditional carnival mask from Sardinia](https://taz.de/!345490/).\n",
    "\n",
    "\n",
    "You can listen to this world-in-a-playlist [here on Spotify](https://open.spotify.com/playlist/6AlBxODWGmUzwAkBCR2FqP?si=691f1495b5434812) and [here on YouTube](https://www.youtube.com/watch?v=8YNwZ5N6vug&list=PL8g99k_gagFSz1XI_JdbpHTQxcBFJC2fy)."
   ]
  },
  {
   "cell_type": "markdown",
   "metadata": {},
   "source": [
    "Tracklist :\n",
    "- Morning Broadway - Keith Mansfield\n",
    "- Kara Toprak - Altin Gün\n",
    "- What's a Girl to Do - Fatima Yamaha\n",
    "- Here and Heaven - Stuart Duncan\n",
    "- Otis - Lambert"
   ]
  },
  {
   "cell_type": "markdown",
   "metadata": {},
   "source": [
    "<img src=\"/images/galata.jpeg\" title=\"Galata tower reflection, Salih Yüce.\" style=\"width:600px\"/>"
   ]
  }
 ],
 "metadata": {
  "kernelspec": {
   "display_name": "Python 3",
   "language": "python",
   "name": "python3"
  },
  "language_info": {
   "codemirror_mode": {
    "name": "ipython",
    "version": 3
   },
   "file_extension": ".py",
   "mimetype": "text/x-python",
   "name": "python",
   "nbconvert_exporter": "python",
   "pygments_lexer": "ipython3",
   "version": "3.5.6"
  }
 },
 "nbformat": 4,
 "nbformat_minor": 2
}
