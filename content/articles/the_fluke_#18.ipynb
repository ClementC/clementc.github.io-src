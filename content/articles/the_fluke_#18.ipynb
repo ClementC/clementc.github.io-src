{
 "cells": [
  {
   "cell_type": "markdown",
   "metadata": {},
   "source": [
    "It's mid-July, but this is a rainy Monday here in Paris... so let's have a mix of high-energy songs (looking at you, Tower of Power!) and quieter ones. For the latter I'm thinking especially about Scott Mulvahill; his [Tiny Desk concert](https://www.youtube.com/watch?v=HwgV6MJneR8) is amazing!\n",
    "\n",
    "The last song is a small piano piece by Sibelius, a famous Finnish classical music composer from the early 20th century. So far I knew mostly about his violin concertos (gosh I wish I could play one of them one day...), but I started obsessively listening to his solo piano pieces lately.\n",
    "\n",
    "But enough words, get the music [here on Spotify](https://open.spotify.com/playlist/5bdi94nVgsEqxTnxr0zhpY?si=2c5937e2599b4be2), [here on Deezer](https://www.deezer.com/fr/playlist/9266350102), or [there on YouTube](https://www.youtube.com/playlist?list=PL8g99k_gagFQDpfGpjcUZ0t6AbVWKZaEE).\n",
    "\n",
    "Bye! 👋👋"
   ]
  },
  {
   "cell_type": "markdown",
   "metadata": {},
   "source": [
    "<img src=\"/images/fikret_moualla.jpeg\" title='\"Trois Visages\", oil on canvas, Fikret Moualla' style=\"width:600px\"/>"
   ]
  },
  {
   "cell_type": "markdown",
   "metadata": {},
   "source": [
    "Tracklist :\n",
    "- You Got To Funkifize - Tower of Power\n",
    "- My Girl - The Temptations\n",
    "- Chimiq - Pumpkin\n",
    "- Begin Againers - Scott Mulvahill\n",
    "- Etude opus 76 no 2 - Sibelius"
   ]
  }
 ],
 "metadata": {
  "kernelspec": {
   "display_name": "Python 3",
   "language": "python",
   "name": "python3"
  },
  "language_info": {
   "codemirror_mode": {
    "name": "ipython",
    "version": 3
   },
   "file_extension": ".py",
   "mimetype": "text/x-python",
   "name": "python",
   "nbconvert_exporter": "python",
   "pygments_lexer": "ipython3",
   "version": "3.5.6"
  },
  "toc": {
   "base_numbering": 1,
   "nav_menu": {},
   "number_sections": true,
   "sideBar": true,
   "skip_h1_title": false,
   "title_cell": "Table of Contents",
   "title_sidebar": "Contents",
   "toc_cell": false,
   "toc_position": {},
   "toc_section_display": true,
   "toc_window_display": false
  }
 },
 "nbformat": 4,
 "nbformat_minor": 2
}
