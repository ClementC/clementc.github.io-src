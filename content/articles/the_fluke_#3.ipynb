{
 "cells": [
  {
   "cell_type": "markdown",
   "metadata": {},
   "source": [
    "Dropping #TheFluke number 3! Available [here on Spotify](https://open.spotify.com/playlist/1R4RJghgKDzR36QRpxbP6n?si=VHB9kSlVTHeLQJe9oH4yyg), [here on Deezer](https://www.deezer.com/fr/playlist/9114863582), and [here on YouTube](https://www.youtube.com/playlist?list=PL8g99k_gagFSOr9ubkuXUShKZDHIZ7cnt).\n",
    "\n",
    "This week is more about funk and electro 🕺🏻\n",
    "\n",
    "Special hat tip to my friend [Antoine Reininger](https://lareininge.wordpress.com/), who has been playing the bass with [DBFC](https://www.facebook.com/DBFCtheband/) and [Bachar Mar-Khalifé](https://www.facebook.com/bmkhalife) 😎"
   ]
  },
  {
   "cell_type": "markdown",
   "metadata": {},
   "source": [
    "Tracklist :\n",
    "- Doin' It - Herbie Hancock\n",
    "- Humdrum - DBFC\n",
    "- Lemon - Bachar Mar Khalifé\n",
    "- From the Dark Knight - Macadam Crocodile\n",
    "- Temps de partir - Symon"
   ]
  },
  {
   "cell_type": "markdown",
   "metadata": {},
   "source": [
    "<img src=\"/images/headhunters.jpeg\" title=\"Backcover of the 1973 &quot;Head Hunters&quot; album by Herbie Hancock, which made him famous.\" style=\"width:600px\"/>"
   ]
  }
 ],
 "metadata": {
  "kernelspec": {
   "display_name": "Python 3",
   "language": "python",
   "name": "python3"
  },
  "language_info": {
   "codemirror_mode": {
    "name": "ipython",
    "version": 3
   },
   "file_extension": ".py",
   "mimetype": "text/x-python",
   "name": "python",
   "nbconvert_exporter": "python",
   "pygments_lexer": "ipython3",
   "version": "3.5.6"
  }
 },
 "nbformat": 4,
 "nbformat_minor": 2
}
