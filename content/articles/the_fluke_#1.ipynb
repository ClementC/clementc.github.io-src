{
 "cells": [
  {
   "cell_type": "markdown",
   "metadata": {},
   "source": [
    "A few weeks ago I was lamenting the fact that one of the top way I had to discover new music was musical channels in private Slack or Teams from places I was working.\n",
    "\n",
    "I've been exposed to a lot of new artists this way. But changing jobs meant that I was losing easy access to a pool of excellent recommandations (I've been blessed with coworkers that had a very good musical taste!). \n",
    "\n",
    "I think the solution is sharing music in a more public manner: it's both easier and cooler :)"
   ]
  },
  {
   "cell_type": "markdown",
   "metadata": {},
   "source": [
    "<img src=\"/figures/turntable_plants.jpg\" title=\"Sharing music while in lockdown (credits: Chris Dion https://unsplash.com/@chris_dion)\" style=\"width:600px\"/>"
   ]
  },
  {
   "cell_type": "markdown",
   "metadata": {},
   "source": [
    "So here is the concept: a playlist with a cool name, 5 songs every week, from different artists / genres.\n",
    "\n",
    "I don't really try to have a theme, the only criterion is that they have to be \"earworms\" for me, songs that stay in my head for days!\n",
    "\n",
    "The first one is [here on Spotify](https://open.spotify.com/playlist/76nnUHvPrL2mV35akfRpo2?si=VS_tSjZ6SQahL4K49dH-Pw), or [here on YouTube](https://youtube.com/playlist?list=PL8g99k_gagFRssD5F8-C-O-RQR62kPTMy)."
   ]
  },
  {
   "cell_type": "markdown",
   "metadata": {},
   "source": [
    "I posted it on [Twitter](https://twitter.com/HerrDoktorFunk/status/1371908010327605253), Facebook, and Instagram, and got some very positive responses: friends recommending me music (intended purpose, so yay!), and being inspired to create their own playlists, which went beyond my expectations!\n",
    "\n",
    "It made me reflect on a simple, yet profound statement made by the French sociologist [Nathan Stern](https://twitter.com/nathStern) a few days ago: seemingly mundane acts of sharing more often than not enhance the lives of people around us, so we shouldn't be shy about doing it. And it's especially true right now, as our relationships have decreased in both quantity and quality with the pandemic."
   ]
  },
  {
   "cell_type": "markdown",
   "metadata": {},
   "source": [
    "So please, keep hitting me with your best songs! :D"
   ]
  }
 ],
 "metadata": {
  "kernelspec": {
   "display_name": "Python 3",
   "language": "python",
   "name": "python3"
  },
  "language_info": {
   "codemirror_mode": {
    "name": "ipython",
    "version": 3
   },
   "file_extension": ".py",
   "mimetype": "text/x-python",
   "name": "python",
   "nbconvert_exporter": "python",
   "pygments_lexer": "ipython3",
   "version": "3.5.2"
  }
 },
 "nbformat": 4,
 "nbformat_minor": 2
}
