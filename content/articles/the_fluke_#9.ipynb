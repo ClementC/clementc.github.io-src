{
 "cells": [
  {
   "cell_type": "markdown",
   "metadata": {},
   "source": [
    "The weather this week is super rainy, so #TheFluke n°9 errs on the side of melancholy.\n",
    "\n",
    "It is heavy on the jazz side, with a tune from famed saxophonist Joe Henderson, and a really impressive version of Giant Steps, regarded as a really difficult standard, by 12-year old Joey Alexander.\n",
    "\n",
    "I also chose two artists with a strong sonic identity. You can't mistake Eels' voice for someone else. And FORQ's sound is intense and sophisticated; you can maybe recognize Micheal League's bass in there.\n",
    "\n",
    "I discovered \"Love is All\", the last song, thanks to a friend who was covering it. It's a shame there's no recording of it online!\n",
    "\n",
    "The playlist is awaiting you [here on Spotify](https://open.spotify.com/playlist/4r3dHJhKdtBpBE96wFTCOw?si=f3d53ac620264922) and [here on YouTube](https://www.youtube.com/watch?v=inLHDi5TGG8&list=PL8g99k_gagFSa8oglvobqFVF1wjv4fTPO)."
   ]
  },
  {
   "cell_type": "markdown",
   "metadata": {},
   "source": [
    "<img src=\"/images/love_is_all.jpg\" title='Cover of the album \"The Wild Hunt\" by The Tallest Man On Earth (2010)' style=\"width:600px\"/>"
   ]
  },
  {
   "cell_type": "markdown",
   "metadata": {},
   "source": [
    "Tracklist :\n",
    "- Rusty Pipes - Eels\n",
    "- Giant Steps - Joey Alexander\n",
    "- Recorda Me - Joe Henderson\n",
    "- Lymaks - FORQ\n",
    "- Love Is All - The Tallest Man on Earth"
   ]
  }
 ],
 "metadata": {
  "kernelspec": {
   "display_name": "Python 3",
   "language": "python",
   "name": "python3"
  },
  "language_info": {
   "codemirror_mode": {
    "name": "ipython",
    "version": 3
   },
   "file_extension": ".py",
   "mimetype": "text/x-python",
   "name": "python",
   "nbconvert_exporter": "python",
   "pygments_lexer": "ipython3",
   "version": "3.5.6"
  }
 },
 "nbformat": 4,
 "nbformat_minor": 2
}
