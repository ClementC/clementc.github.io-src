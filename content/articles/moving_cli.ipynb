{
 "cells": [
  {
   "cell_type": "markdown",
   "metadata": {},
   "source": [
    "I'm tired of pounding on the arrow keys when moving in the command line, but I keep on forgetting the keyboard shorcuts that would help me move more efficiently, so here's a simple diagram in a flashcard format for future reference!"
   ]
  },
  {
   "cell_type": "markdown",
   "metadata": {},
   "source": [
    "<img src=\"/figures/moving_cli.png\" title=\"Moving efficiently in the command line\" style=\"width:600px\"/>"
   ]
  },
  {
   "cell_type": "markdown",
   "metadata": {},
   "source": [
    "I found a useful table with most of those in the __[How Linux Works](https://nostarch.com/howlinuxworks2)__ book that I'm currently reading, and some more on Stack Overflow.\n",
    "\n",
    "If you plan on using them, please bear in mind that these keyboard shorcuts depend on quite a number of things: the Unix distribution that you're using, your shell, your own configuration quirks... so YMMV."
   ]
  }
 ],
 "metadata": {
  "kernelspec": {
   "display_name": "Python 3",
   "language": "python",
   "name": "python3"
  },
  "language_info": {
   "codemirror_mode": {
    "name": "ipython",
    "version": 3
   },
   "file_extension": ".py",
   "mimetype": "text/x-python",
   "name": "python",
   "nbconvert_exporter": "python",
   "pygments_lexer": "ipython3",
   "version": "3.4.0"
  }
 },
 "nbformat": 4,
 "nbformat_minor": 2
}
