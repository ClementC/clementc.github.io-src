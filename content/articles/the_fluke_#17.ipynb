{
 "cells": [
  {
   "cell_type": "markdown",
   "metadata": {},
   "source": [
    "Howdy!\n",
    "\n",
    "Let's start the week with some good energy from Bill Withers :)\n",
    "Then after a classic by Creedence Clearwater Revival, we'll have a song from Don Cavalli, a French blues singer and guitar player. The first time I heard one of his songs, I thought it was a recording from the 1930s, because he likes to record with a very rough sound akin to the early Mississipi blues albums.\n",
    "\n",
    "We end with a nice song from the blind Cuban singer and guitar player Raul Midón, and a track from the album \"Jazz Impressions from Japan\" by the Dave Brubeck Quartet. This album is very soft, and I find it to be a nice way to rediscover Dave Brubeck (I've heard \"Take Five\" and \"Blue Rondo A La Turk\" too many times...).\n",
    "\n",
    "The playlist is [here on Spotify](https://open.spotify.com/playlist/0N8ZLXj74QwOnI2NLu6DPn?si=b1260dbcaa2941af), [here on Deezer](https://www.deezer.com/fr/playlist/9244032422), or [there on YouTube](https://www.youtube.com/playlist?list=PL8g99k_gagFTic7kDf3xvih1axgyWX1OI).\n",
    "\n",
    "See you next week!"
   ]
  },
  {
   "cell_type": "markdown",
   "metadata": {},
   "source": [
    "<img src=\"/images/rainy_night_at_maekawa.jpeg\" title='Rainy Night at Maekawa, Kawase Hasui (1932).' style=\"width:600px\"/>"
   ]
  },
  {
   "cell_type": "markdown",
   "metadata": {},
   "source": [
    "Tracklist :\n",
    "- Lovely Day - Bill Withers\n",
    "- Green River - Creedence Clearwater Revival\n",
    "- I Got a Girlie - Don Cavalli\n",
    "- Sunshine (I Can Fly) - Raul Midón\n",
    "- The City is Crying - The Dave Brubeck Quartet"
   ]
  }
 ],
 "metadata": {
  "kernelspec": {
   "display_name": "Python 3",
   "language": "python",
   "name": "python3"
  },
  "language_info": {
   "codemirror_mode": {
    "name": "ipython",
    "version": 3
   },
   "file_extension": ".py",
   "mimetype": "text/x-python",
   "name": "python",
   "nbconvert_exporter": "python",
   "pygments_lexer": "ipython3",
   "version": "3.8.5"
  },
  "toc": {
   "base_numbering": 1,
   "nav_menu": {},
   "number_sections": true,
   "sideBar": true,
   "skip_h1_title": false,
   "title_cell": "Table of Contents",
   "title_sidebar": "Contents",
   "toc_cell": false,
   "toc_position": {},
   "toc_section_display": true,
   "toc_window_display": false
  }
 },
 "nbformat": 4,
 "nbformat_minor": 2
}
