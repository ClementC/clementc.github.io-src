{
 "cells": [
  {
   "cell_type": "markdown",
   "metadata": {},
   "source": [
    "Monday means a new edition of #TheFluke!\n",
    "\n",
    "For #5 we stay mostly in jazz realms.\n",
    "\n",
    "The playlist is [here on Spotify](https://open.spotify.com/playlist/2QL7rvH0ER5apCuDx8QObU?si=18eb8d07d95b4ad5) and [here on YouTube](https://www.youtube.com/playlist?list=PL8g99k_gagFRKwrjOpSrHyZvUBK_ra6pT)."
   ]
  },
  {
   "cell_type": "markdown",
   "metadata": {},
   "source": [
    "Tracklist :\n",
    "- Bullit, Main Theme (Movie Version) - Lalo Schifrin\n",
    "- Picture of my life - Jamiroquai\n",
    "- Lady Day and John Coltrane - Gil Scott-Heron\n",
    "- Belief -  Leon Parker\n",
    "- Umray - Avishai Cohen"
   ]
  },
  {
   "cell_type": "markdown",
   "metadata": {},
   "source": [
    "<img src=\"/images/bullit.jpg\" title=\"Original poster for the movie Bullit (1968)\" style=\"width:600px\"/>"
   ]
  }
 ],
 "metadata": {
  "kernelspec": {
   "display_name": "Python 3",
   "language": "python",
   "name": "python3"
  },
  "language_info": {
   "codemirror_mode": {
    "name": "ipython",
    "version": 3
   },
   "file_extension": ".py",
   "mimetype": "text/x-python",
   "name": "python",
   "nbconvert_exporter": "python",
   "pygments_lexer": "ipython3",
   "version": "3.5.6"
  }
 },
 "nbformat": 4,
 "nbformat_minor": 2
}
