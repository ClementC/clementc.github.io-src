{
 "cells": [
  {
   "cell_type": "markdown",
   "metadata": {},
   "source": [
    "I made a small thing which makes me happy :)\n",
    "\n",
    "It's a command-line program that plays ambient recording made by the [American National Park Service](https://www.nps.gov/index.htm)."
   ]
  },
  {
   "cell_type": "markdown",
   "metadata": {},
   "source": [
    "<img src=\"https://www.nps.gov/npgallery/GetAsset/035B3918-1DD8-B71B-0B251C76A4DC59E2/proxy/hires\" style=\"width:600px\" title=\"Hallett Peak reflected in Dream Lake, Rocky Mountain National Park (credit: NPS Photo)\" />"
   ]
  },
  {
   "cell_type": "markdown",
   "metadata": {},
   "source": [
    "The recordings were made available [a few days ago](https://lifehacker.com/stream-sounds-from-a-national-park-if-you-cant-get-away-1828702554) and are really nice to relax or focus.\n",
    "\n",
    "Today I remembered that I've been using `rainymood`, a small command-line function, and connected the two ideas to quickly make `naturemood`."
   ]
  },
  {
   "cell_type": "markdown",
   "metadata": {},
   "source": [
    "<img src=\"/figures/rainymood.png\" style=\"width:600px\" title=\"My initial inspiration.\" />"
   ]
  },
  {
   "cell_type": "markdown",
   "metadata": {},
   "source": [
    "The code is [here](https://github.com/ClementC/naturemood), and should work fine on Ubuntu.\n",
    "\n",
    "Happy listening & relaxing!"
   ]
  }
 ],
 "metadata": {
  "kernelspec": {
   "display_name": "Python 3",
   "language": "python",
   "name": "python3"
  },
  "language_info": {
   "codemirror_mode": {
    "name": "ipython",
    "version": 3
   },
   "file_extension": ".py",
   "mimetype": "text/x-python",
   "name": "python",
   "nbconvert_exporter": "python",
   "pygments_lexer": "ipython3",
   "version": "3.5.2"
  }
 },
 "nbformat": 4,
 "nbformat_minor": 2
}
