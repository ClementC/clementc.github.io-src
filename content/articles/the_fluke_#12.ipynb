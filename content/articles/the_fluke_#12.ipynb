{
 "cells": [
  {
   "cell_type": "markdown",
   "metadata": {},
   "source": [
    "We get bluesy this week in The Fluke, with Popa Chubby in a Louisiana-infused track, and Tinariwen (written ⵜⵏⵔⵓⵏ in [Tifinagh](https://en.wikipedia.org/wiki/Tifinagh)), a very intense sounding desert blues band. They won a [Grammy award in 2020](https://www.grammy.com/grammys/artists/tinariwen/10715) in the \"Best Global Music Album\" category for their album. I really recommend watching their animated, dream-like clips! Popa Chubby is kind of far from what I'm listening these days, but he holds a special place in my heart, since it's the first concert I went to see on my own.\n",
    "\n",
    "I also threw in there a track by Max Richter, from the movie Waltz with Bashir. The film is hard to watch, I remember being shaken when I was out of the cinema. It really deserves all of its awards.\n",
    "Richter has \"re-composed\" a version of Vivaldi's Four Seasons a few years ago, which is very much worth a listen, especially if you know well the original piece.\n",
    "\n",
    "Some novelty: the playlists are now available on Deezer (french competitor to Spotify 🇫🇷), by popular demand of multiple (>1) people. I updated the articles on previous playlists to add the corresponding links.\n",
    "\n",
    "So here are the links [on Spotify](https://open.spotify.com/playlist/14uMZb3MyuI6sEJWib89iD?si=32861385b98b404b), [Deezer](https://www.deezer.com/fr/playlist/9126082002), and [on YouTube](https://www.youtube.com/playlist?list=PL8g99k_gagFQOKa4v3BCS38O9sq7ABS5r).\n",
    "\n",
    "See you next week!"
   ]
  },
  {
   "cell_type": "markdown",
   "metadata": {},
   "source": [
    "<img src=\"/images/nannuflay.jpeg\" title='A still taken from the clip of Nànnuflày, by Tinariwen' style=\"width:600px\"/>"
   ]
  },
  {
   "cell_type": "markdown",
   "metadata": {},
   "source": [
    "Tracklist :\n",
    "- Brick House - Commodores\n",
    "- I'm not Afraid - Poppa Chubby\n",
    "- Nànnuflày - Tinariwen\n",
    "- Boaz and the Dogs - Max Richter\n",
    "- Back to the Ground - Jamie Cullum"
   ]
  }
 ],
 "metadata": {
  "kernelspec": {
   "display_name": "Python 3",
   "language": "python",
   "name": "python3"
  },
  "language_info": {
   "codemirror_mode": {
    "name": "ipython",
    "version": 3
   },
   "file_extension": ".py",
   "mimetype": "text/x-python",
   "name": "python",
   "nbconvert_exporter": "python",
   "pygments_lexer": "ipython3",
   "version": "3.5.6"
  }
 },
 "nbformat": 4,
 "nbformat_minor": 2
}
