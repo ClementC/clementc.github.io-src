{
 "cells": [
  {
   "cell_type": "markdown",
   "metadata": {},
   "source": [
    "After stumbling on a __[very detailed Twitter thread](https://threadreaderapp.com/thread/957763229454774272.html)__ (now expanded into an __[even more extensive blog post](http://augmentingcognition.com/ltm.html)__) by __[Michael Nielsen](http://michaelnielsen.org/)__ some months ago, I got inspired to try __[Anki](https://apps.ankiweb.net/)__ as a tool to make learning new things more efficient.\n",
    "\n",
    "This post gathers in the same place ressources (SO questions, blog posts...) that I used to get to my current setup. I will probably need it at some future time, and hopefully it can help others too."
   ]
  },
  {
   "cell_type": "markdown",
   "metadata": {},
   "source": [
    "## Apps and account\n",
    "\n",
    "I use the Anki desktop apps on Ubuntu and Mac mainly for creating cards, and the __[Android app](https://play.google.com/store/apps/details?id=com.ichi2.anki)__ for reviewing on the go. I use a free __[AnkiWeb](https://ankiweb.net/about)__ account to synchronize decks between the three apps; I don’t use the web interface for reviewing.\n",
    "\n",
    "The interplay between the different apps is quite smooth as long as you make sure that the synchronization is well run after each review session, and more importantly after each modification of your decks.\n",
    "Sometimes the sync will not work, for instance because of a network outage on your smartphone. In that case you will be prompted in to choose which version to keep (the server one or the local one); just stop and think about which one is the most recent and you should be good."
   ]
  },
  {
   "cell_type": "markdown",
   "metadata": {},
   "source": [
    "## Plugins and LaTeX\n",
    "\n",
    "I installed the __[Power Format Pack](https://ankiweb.net/shared/info/162313389)__ plugin, which allows for more advanced formatting options, especially for source code and LaTeX.\n",
    "\n",
    "Setting up LaTeX is not a very straightforward experience, so you can always use a website to generate images of your expressions (I used __[this one](https://www.codecogs.com/eqnedit.php)__ for a few days before mustering the courage to dive into a session of googling and Stack Overflow poring...).\n",
    "\n",
    "Anyway, here’s a list of instructions (assuming Ubuntu)."
   ]
  },
  {
   "cell_type": "markdown",
   "metadata": {},
   "source": [
    "### LaTeX installation\n",
    "\n",
    "In a terminal, run `sudo apt-get install texlive-base dvipng`.\n",
    "\n",
    "Those are rather heavy packages, and they are needed because Anki compiles your LaTeX code using these libraries, and insert the generated images into the cards; reference for this step __[here](https://askubuntu.com/questions/668762/using-latex-in-anki#comment1669609_671265)__."
   ]
  },
  {
   "cell_type": "markdown",
   "metadata": {},
   "source": [
    "### Improving Anki formatting\n",
    "\n",
    "With the default options, the generated images are a bit too big and are not vertically aligned with the text, which annoyed me.\n",
    "\n",
    "To solve this, you first have to change the LaTeX header in the template of the cards: go to `\"Tools > Manage Note Types\"`, and for each type of decks, click on it, then click on `\"Options\"` and in the top text field (`\"Header\"`), add a line after the last one (`\\begin{document}`) to set the font size.\n",
    "\n",
    "I found that `\\footnotesize` worked best for me. You might want to experiment though, so __[here’s a list of LaTeX font sizes](https://en.wikibooks.org/w/index.php?title=LaTeX/Fonts&section=5#Built-in_sizes)__.\n",
    "\n",
    "In the first line (`\\documentclass[12pt]{article}`), I also changed the size from `12pt` to `8pt`. I think I could have arrived at the same visual result without modifying the `12pt` by choosing an even smaller font size category like `\\tiny`, but it’s working that way.\n",
    "\n",
    "You can then close this window, and click on `\"Cards…\"`; then in the `\"Styling\"` textbox, append these lines to correct the vertical alignment problem:\n",
    "\n",
    "````\n",
    "img[src*=\"latex\"] {\n",
    "  vertical-align: middle;\n",
    "}\n",
    "````\n",
    "\n",
    "You now need to repeat this of every type of deck that needs it (references for these instructions: __[here](https://stackoverflow.com/questions/29453810/math-latex-horizontally-aligned-with-text/31862519#31862519\n",
    ")__ and __[there](https://tex.stackexchange.com/questions/108418/anki-latex-math-font-size-declaremathsizes/132799#132799\n",
    ")__)."
   ]
  },
  {
   "cell_type": "markdown",
   "metadata": {},
   "source": [
    "### Regenerating formulas images\n",
    "\n",
    "If you didn’t have any cards created with LaTeX, you’re good to go. You’ll notice that the sync is now uploading medias along your cards: those are the generated images for your LaTeX formulas.\n",
    "\n",
    "If instead you already had some cards created, Anki has to regenerate the images. You also need to do this if you want to experiment with the formatting options, to examine the result after each change.\n",
    "\n",
    "The most simple way is to remove all the images named with the pattern `latex-*.png` in the `collection.media` directory, which for me is in `~/.local/share/Anki2/User 1/` on Ubuntu (you can always search the directory name on a different system to locate it).\n",
    "\n",
    "At last in Anki, execute `\"Tools > Check Media\"`; Anki will then recompile all your LaTeX formulas and regenerate the images. You can now sync. Reference for this part __[here](https://www.reddit.com/r/Anki/comments/7t6ewx/how_to_force_anki_to_recompile_latex_code/)__."
   ]
  },
  {
   "cell_type": "markdown",
   "metadata": {},
   "source": [
    "## Conclusion\n",
    "\n",
    "I have barely scratched the surface of what is possible with Anki (more complicated cards with cloze, fiddling with the reviewing settings...), but I really like the flexibility it provides for creating cards.\n",
    "\n",
    "I have a feeling that I will need to come back to this page in some time when I change my phone or laptop, and that future-me will thank me..."
   ]
  }
 ],
 "metadata": {
  "kernelspec": {
   "display_name": "Python 3",
   "language": "python",
   "name": "python3"
  },
  "language_info": {
   "codemirror_mode": {
    "name": "ipython",
    "version": 3
   },
   "file_extension": ".py",
   "mimetype": "text/x-python",
   "name": "python",
   "nbconvert_exporter": "python",
   "pygments_lexer": "ipython3",
   "version": "3.5.2"
  }
 },
 "nbformat": 4,
 "nbformat_minor": 2
}
