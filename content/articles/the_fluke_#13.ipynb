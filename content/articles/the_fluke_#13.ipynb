{
 "cells": [
  {
   "cell_type": "markdown",
   "metadata": {},
   "source": [
    "Happy Monday! It's The Fluke #13, and today we stay in the comfortable jazz/blues/funk triangle.\n",
    "\n",
    "Choosing just one song by Vulfpeck was a difficult exercise... There are so many that I love! Please go on their [YouTube channel](https://www.youtube.com/channel/UCtWuB1D_E3mcyYThA9iKggQ), the clips are really nice, and by the second or third one you'll be totally addicted to their musical jingle :)\n",
    "\n",
    "I first heard the song \"The Death of J.B. Lenoir\" in the documentary \"The Soul of a Man\" by Wim Wenders. It's part of a series on the blues, produced by Martin Scorcese. It is incredibly good. In particular, the story behing the song I chose is very sad and moving.\n",
    "\n",
    "Here are the links [on Spotify](https://open.spotify.com/playlist/2QqYAk090GBhLfOKcJ6m7p?si=68b4226eee3443c8), [Deezer](https://www.deezer.com/fr/playlist/9150661602), and [on YouTube](https://www.youtube.com/playlist?list=PL8g99k_gagFRM_g6j8xRRX_xOEkAIIYmf).\n",
    "\n",
    "Have a fantastic week!"
   ]
  },
  {
   "cell_type": "markdown",
   "metadata": {},
   "source": [
    "<img src=\"/images/vulfpeck_thrill_of_the_arts.jpg\" title='Cover of the Album \"Thrill of the Arts\" by Vulfpeck.' style=\"width:600px\"/>"
   ]
  },
  {
   "cell_type": "markdown",
   "metadata": {},
   "source": [
    "Tracklist :\n",
    "- Shine It - Medeski, Martin & Wood\n",
    "- Luz Negra - Stefano Bollani\n",
    "- Zabawa w ciemności - Henryk Debich\n",
    "- The Death of J.B. Lenoir - John Mayall & the Bluesbreakers\n",
    "- Wait for the moment - Vulfpeck"
   ]
  }
 ],
 "metadata": {
  "kernelspec": {
   "display_name": "Python 3",
   "language": "python",
   "name": "python3"
  },
  "language_info": {
   "codemirror_mode": {
    "name": "ipython",
    "version": 3
   },
   "file_extension": ".py",
   "mimetype": "text/x-python",
   "name": "python",
   "nbconvert_exporter": "python",
   "pygments_lexer": "ipython3",
   "version": "3.5.6"
  }
 },
 "nbformat": 4,
 "nbformat_minor": 2
}
