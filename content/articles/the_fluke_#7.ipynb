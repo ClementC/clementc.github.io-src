{
 "cells": [
  {
   "cell_type": "markdown",
   "metadata": {},
   "source": [
    "I'm a little bit late for #TheFluke n°7. This week we've got tracks that I used to listen to a long time ago (Deep Purple's B side \"Anyone Daughter\" and Tony Williams), as well as more recent artists.\n",
    "\n",
    "Of course if you like a track, I always encourage you to listen to the full album, in the original order. Much thought is put into this by artists and producers, and we're losing on it by only consuming tracks on shuffle mode.\n",
    "\n",
    "You can find the playlist [here on Spotify](https://open.spotify.com/playlist/49IMxKsFIpa8VmeP4fJRBt?si=454e59c1a3154359) and [here on YouTube](https://www.youtube.com/playlist?list=PL8g99k_gagFTX1GP050__JbRp1PqqWTi9)."
   ]
  },
  {
   "cell_type": "markdown",
   "metadata": {},
   "source": [
    "<img src=\"/images/tony_williams.jpeg\" title=\"Drummer Tony Williams sporting a funky 'stache (1969, source Wikipedia)\" style=\"width:600px\"/>"
   ]
  },
  {
   "cell_type": "markdown",
   "metadata": {},
   "source": [
    "Tracklist :\n",
    "- All the Way - Charles Pasi\n",
    "- Anyone's Daughter - Deep Purple\n",
    "- You Did It to Me Baby - Tony Williams\n",
    "- The Prince is Dead - Sporto Kantes\n",
    "- Come Home - Anderson Paak"
   ]
  }
 ],
 "metadata": {
  "kernelspec": {
   "display_name": "Python 3",
   "language": "python",
   "name": "python3"
  },
  "language_info": {
   "codemirror_mode": {
    "name": "ipython",
    "version": 3
   },
   "file_extension": ".py",
   "mimetype": "text/x-python",
   "name": "python",
   "nbconvert_exporter": "python",
   "pygments_lexer": "ipython3",
   "version": "3.5.6"
  }
 },
 "nbformat": 4,
 "nbformat_minor": 2
}
