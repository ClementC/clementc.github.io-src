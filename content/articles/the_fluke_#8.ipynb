{
 "cells": [
  {
   "cell_type": "markdown",
   "metadata": {},
   "source": [
    "Hey there! #TheFluke n°8 is out :)\n",
    "\n",
    "We're opening with a track from the album \"Wise Up Ghost\" by Elvis Costello & the Roots. For a period I was listening to it on a loop, the production is so good!\n",
    "\n",
    "Same for \"Moon & Sand\", from the album \"Autour de Chet\": the choice has been hard because all tracks from this album of covers are really inspired. Special mention to the intensity of \"Born to be Blue\", with Hugh Coltman and Erik Truffaz!\n",
    "\n",
    "Last thing, I learned about a new musical genre today while researching for this blog post: Calibro 35 is described on their [Wikipedia page](https://en.wikipedia.org/wiki/Calibro_35) as a \"cinematic funk Italian band\". Now I know what to talk about in the next sophisticated cocktail party 🍸\n",
    "\n",
    "You can find the playlist [here on Spotify](https://open.spotify.com/playlist/5BRS1ugF2YLWEBgqglfzQq?si=a1ed070dd2f04803) and [here on YouTube](https://www.youtube.com/watch?v=TevmRwLRxqY&list=PL8g99k_gagFSXoptoWi9Ko12R2u_P1fnR)."
   ]
  },
  {
   "cell_type": "markdown",
   "metadata": {},
   "source": [
    "<img src=\"/images/calibro_35.jpeg\" title=\"Cover of Calibro 35's eponymous album (2008)\" style=\"width:600px\"/>"
   ]
  },
  {
   "cell_type": "markdown",
   "metadata": {},
   "source": [
    "Tracklist :\n",
    "- Refuse to be Saved - Elvis Costello & the Roots\n",
    "- Black & Bitter - Electro Deluxe\n",
    "- Tutta Donna - Calibro 35\n",
    "- Moon & Sand - Ibeyi & Benjamin Biolay\n",
    "- Hala Land - Tarik Yamani"
   ]
  }
 ],
 "metadata": {
  "kernelspec": {
   "display_name": "Python 3",
   "language": "python",
   "name": "python3"
  },
  "language_info": {
   "codemirror_mode": {
    "name": "ipython",
    "version": 3
   },
   "file_extension": ".py",
   "mimetype": "text/x-python",
   "name": "python",
   "nbconvert_exporter": "python",
   "pygments_lexer": "ipython3",
   "version": "3.5.6"
  }
 },
 "nbformat": 4,
 "nbformat_minor": 2
}
