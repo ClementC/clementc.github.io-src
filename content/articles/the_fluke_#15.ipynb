{
 "cells": [
  {
   "cell_type": "markdown",
   "metadata": {},
   "source": [
    "Today is officially the first day of summer, and it's the _\"fête de la musique\"_ in France! Although this year again it won't be as joyful as usual with the Covid restrictions, I hope that The Fluke #15 will delight you :)\n",
    "\n",
    "We'll start with a classic funk song from The Meters, get into some electro _aus Berlin_, and let ourselves be weird with Louis Cole!\n",
    "\n",
    "\"Manifesto\" by Chilly Gonzales, the song concluding this week's playlist, is a favorite of mine when it comes to solo piano. Interestingly, I couldn't find the album version on YouTube, so I linked a live version. It's a particular one, since it was recorded during the famous \"27 hours\" concert he gave in Paris in 2009. With this concert, he broke the Guiness World Record in the \"longest concert by a solo artist\" category.\n",
    "\n",
    "You can find the playlist here [on Spotify](https://open.spotify.com/playlist/1zxI9rMqem8IDsM4tBxvuK?si=b1d7862351714fd5), [Deezer](https://www.deezer.com/fr/playlist/9198211822), and [on YouTube](https://www.youtube.com/playlist?list=PL8g99k_gagFQEDqySeF669zViotKUYBNw).\n",
    "\n",
    "See you next week!"
   ]
  },
  {
   "cell_type": "markdown",
   "metadata": {},
   "source": [
    "<img src=\"/images/cissy_strut.jpeg\" title='Cover of the \"Cissy Strut\" album by The Meters (1969). I love the retro design!' style=\"width:600px\"/>"
   ]
  },
  {
   "cell_type": "markdown",
   "metadata": {},
   "source": [
    "Tracklist :\n",
    "- Cissy Struts - The Meters\n",
    "- Bop - Brandt Brauer Frick\n",
    "- Weird Part of the Night - Louis Cole\n",
    "- Les Fleur - 4Hero\n",
    "- Manifesto - Chilly Gonzales"
   ]
  }
 ],
 "metadata": {
  "kernelspec": {
   "display_name": "Python 3",
   "language": "python",
   "name": "python3"
  },
  "language_info": {
   "codemirror_mode": {
    "name": "ipython",
    "version": 3
   },
   "file_extension": ".py",
   "mimetype": "text/x-python",
   "name": "python",
   "nbconvert_exporter": "python",
   "pygments_lexer": "ipython3",
   "version": "3.5.6"
  }
 },
 "nbformat": 4,
 "nbformat_minor": 2
}
