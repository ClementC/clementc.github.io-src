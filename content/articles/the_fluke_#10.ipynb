{
 "cells": [
  {
   "cell_type": "markdown",
   "metadata": {},
   "source": [
    "So there we are, with n°10 of #TheFluke!\n",
    "\n",
    "I was really not sure I'd keep posting these playlists for that long... but except for delays of a day or two here and there, I've been consistently getting a lot of pleasure digging up old favorites and new discoveries every week! I've also had some very nice recommandations from friends, nudging me away from my usual music preferences. This small project is therefore a success, and I want to keep pushing until at least n°20!\n",
    "\n",
    "As I'm back from holidays, this week I chose songs with more energy :)<br>\n",
    "In fact, Steve Reich's Electric Counterpoint almost has a manic vibe to it.\n",
    "\n",
    "Here are the links [on Spotify](https://open.spotify.com/playlist/1dClfmgg1zaiHPFKhm1Ado?si=d194f187ef6c434d) and [on YouTube](https://www.youtube.com/playlist?list=PL8g99k_gagFQAkfmwIJyOcq1mNzIpwaMY)."
   ]
  },
  {
   "cell_type": "markdown",
   "metadata": {},
   "source": [
    "<a href=\"https://www.chenalexander.com/Piano-Phase\"><img src=\"/images/steve_reich_dataviz.png\" title='Data visualization of \"Piano Phase\" by Steve Reich (credits Alexander Chen)' style=\"width:600px\"/><a/>"
   ]
  },
  {
   "cell_type": "markdown",
   "metadata": {},
   "source": [
    "Tracklist :\n",
    "- Jeune à la retraite - Féfé\n",
    "- Paper Tiger - Beck\n",
    "- Entre Dos Aguas - Paco de Lucia\n",
    "- Electric Counterpoint III - Steve Reich\n",
    "- Les Là-Bas - Henri Texier"
   ]
  }
 ],
 "metadata": {
  "kernelspec": {
   "display_name": "Python 3",
   "language": "python",
   "name": "python3"
  },
  "language_info": {
   "codemirror_mode": {
    "name": "ipython",
    "version": 3
   },
   "file_extension": ".py",
   "mimetype": "text/x-python",
   "name": "python",
   "nbconvert_exporter": "python",
   "pygments_lexer": "ipython3",
   "version": "3.5.6"
  }
 },
 "nbformat": 4,
 "nbformat_minor": 2
}
